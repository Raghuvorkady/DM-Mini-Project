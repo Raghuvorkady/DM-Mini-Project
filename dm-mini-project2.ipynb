{
 "cells": [
  {
   "cell_type": "code",
   "execution_count": 18,
   "metadata": {
    "colab": {
     "base_uri": "https://localhost:8080/",
     "height": 104
    },
    "colab_type": "code",
    "executionInfo": {
     "elapsed": 6102,
     "status": "ok",
     "timestamp": 1600440575571,
     "user": {
      "displayName": "Prajwal Bhat",
      "photoUrl": "https://lh3.googleusercontent.com/a-/AOh14Git8KFiINGdQ1nW0gJq9MYK40HXzju4hhonJ2XTKQ=s64",
      "userId": "14656634530721889759"
     },
     "user_tz": -330
    },
    "id": "m5ZJnMM3IC-s",
    "outputId": "2a4a3431-a26d-4b63-8fe2-ebe50b085d9f"
   },
   "outputs": [
    {
     "name": "stdout",
     "output_type": "stream",
     "text": [
      "Requirement already satisfied: bing-image-downloader in c:\\users\\hp\\anaconda3\\lib\\site-packages (1.1.1)Note: you may need to restart the kernel to use updated packages.\n",
      "\n"
     ]
    }
   ],
   "source": [
    "pip install bing-image-downloader"
   ]
  },
  {
   "cell_type": "code",
   "execution_count": 19,
   "metadata": {},
   "outputs": [
    {
     "name": "stdout",
     "output_type": "stream",
     "text": [
      "Requirement already satisfied: opencv-python in c:\\users\\hp\\anaconda3\\lib\\site-packages (4.4.0.46)\n",
      "Requirement already satisfied: numpy>=1.17.3 in c:\\users\\hp\\anaconda3\\lib\\site-packages (from opencv-python) (1.18.5)\n",
      "Note: you may need to restart the kernel to use updated packages.\n"
     ]
    }
   ],
   "source": [
    "pip install opencv-python"
   ]
  },
  {
   "cell_type": "code",
   "execution_count": 20,
   "metadata": {},
   "outputs": [
    {
     "name": "stdout",
     "output_type": "stream",
     "text": [
      "Requirement already satisfied: matplotlib in c:\\users\\hp\\anaconda3\\lib\\site-packages (3.2.2)\n",
      "Requirement already satisfied: numpy>=1.11 in c:\\users\\hp\\anaconda3\\lib\\site-packages (from matplotlib) (1.18.5)\n",
      "Requirement already satisfied: pyparsing!=2.0.4,!=2.1.2,!=2.1.6,>=2.0.1 in c:\\users\\hp\\anaconda3\\lib\\site-packages (from matplotlib) (2.4.7)\n",
      "Requirement already satisfied: python-dateutil>=2.1 in c:\\users\\hp\\anaconda3\\lib\\site-packages (from matplotlib) (2.8.1)\n",
      "Requirement already satisfied: kiwisolver>=1.0.1 in c:\\users\\hp\\anaconda3\\lib\\site-packages (from matplotlib) (1.2.0)\n",
      "Requirement already satisfied: cycler>=0.10 in c:\\users\\hp\\anaconda3\\lib\\site-packages (from matplotlib) (0.10.0)\n",
      "Requirement already satisfied: six>=1.5 in c:\\users\\hp\\anaconda3\\lib\\site-packages (from python-dateutil>=2.1->matplotlib) (1.15.0)\n",
      "Note: you may need to restart the kernel to use updated packages.\n"
     ]
    }
   ],
   "source": [
    "pip install matplotlib"
   ]
  },
  {
   "cell_type": "code",
   "execution_count": 21,
   "metadata": {},
   "outputs": [
    {
     "name": "stdout",
     "output_type": "stream",
     "text": [
      "Requirement already satisfied: scikit-image in c:\\users\\hp\\anaconda3\\lib\\site-packages (0.16.2)\n",
      "Requirement already satisfied: imageio>=2.3.0 in c:\\users\\hp\\anaconda3\\lib\\site-packages (from scikit-image) (2.9.0)\n",
      "Requirement already satisfied: matplotlib!=3.0.0,>=2.0.0 in c:\\users\\hp\\anaconda3\\lib\\site-packages (from scikit-image) (3.2.2)\n",
      "Requirement already satisfied: scipy>=0.19.0 in c:\\users\\hp\\anaconda3\\lib\\site-packages (from scikit-image) (1.5.0)\n",
      "Requirement already satisfied: PyWavelets>=0.4.0 in c:\\users\\hp\\anaconda3\\lib\\site-packages (from scikit-image) (1.1.1)\n",
      "Requirement already satisfied: pillow>=4.3.0 in c:\\users\\hp\\anaconda3\\lib\\site-packages (from scikit-image) (7.2.0)\n",
      "Requirement already satisfied: networkx>=2.0 in c:\\users\\hp\\anaconda3\\lib\\site-packages (from scikit-image) (2.4)\n",
      "Requirement already satisfied: numpy in c:\\users\\hp\\anaconda3\\lib\\site-packages (from imageio>=2.3.0->scikit-image) (1.18.5)\n",
      "Requirement already satisfied: kiwisolver>=1.0.1 in c:\\users\\hp\\anaconda3\\lib\\site-packages (from matplotlib!=3.0.0,>=2.0.0->scikit-image) (1.2.0)\n",
      "Requirement already satisfied: python-dateutil>=2.1 in c:\\users\\hp\\anaconda3\\lib\\site-packages (from matplotlib!=3.0.0,>=2.0.0->scikit-image) (2.8.1)\n",
      "Requirement already satisfied: cycler>=0.10 in c:\\users\\hp\\anaconda3\\lib\\site-packages (from matplotlib!=3.0.0,>=2.0.0->scikit-image) (0.10.0)\n",
      "Requirement already satisfied: pyparsing!=2.0.4,!=2.1.2,!=2.1.6,>=2.0.1 in c:\\users\\hp\\anaconda3\\lib\\site-packages (from matplotlib!=3.0.0,>=2.0.0->scikit-image) (2.4.7)\n",
      "Requirement already satisfied: decorator>=4.3.0 in c:\\users\\hp\\anaconda3\\lib\\site-packages (from networkx>=2.0->scikit-image) (4.4.2)\n",
      "Requirement already satisfied: six>=1.5 in c:\\users\\hp\\anaconda3\\lib\\site-packages (from python-dateutil>=2.1->matplotlib!=3.0.0,>=2.0.0->scikit-image) (1.15.0)\n",
      "Note: you may need to restart the kernel to use updated packages.\n"
     ]
    }
   ],
   "source": [
    "pip install scikit-image"
   ]
  },
  {
   "cell_type": "code",
   "execution_count": 22,
   "metadata": {},
   "outputs": [
    {
     "name": "stdout",
     "output_type": "stream",
     "text": [
      "Requirement already up-to-date: scikit-learn in c:\\users\\hp\\anaconda3\\lib\\site-packages (0.24.2)\n",
      "Requirement already satisfied, skipping upgrade: numpy>=1.13.3 in c:\\users\\hp\\anaconda3\\lib\\site-packages (from scikit-learn) (1.18.5)\n",
      "Requirement already satisfied, skipping upgrade: scipy>=0.19.1 in c:\\users\\hp\\anaconda3\\lib\\site-packages (from scikit-learn) (1.5.0)\n",
      "Requirement already satisfied, skipping upgrade: threadpoolctl>=2.0.0 in c:\\users\\hp\\anaconda3\\lib\\site-packages (from scikit-learn) (2.1.0)\n",
      "Requirement already satisfied, skipping upgrade: joblib>=0.11 in c:\\users\\hp\\anaconda3\\lib\\site-packages (from scikit-learn) (0.16.0)\n",
      "Note: you may need to restart the kernel to use updated packages.\n"
     ]
    }
   ],
   "source": [
    "pip install -U scikit-learn"
   ]
  },
  {
   "cell_type": "code",
   "execution_count": 23,
   "metadata": {},
   "outputs": [
    {
     "name": "stdout",
     "output_type": "stream",
     "text": [
      "Requirement already satisfied: pandas in c:\\users\\hp\\anaconda3\\lib\\site-packages (1.0.5)\n",
      "Requirement already satisfied: numpy>=1.13.3 in c:\\users\\hp\\anaconda3\\lib\\site-packages (from pandas) (1.18.5)\n",
      "Requirement already satisfied: pytz>=2017.2 in c:\\users\\hp\\anaconda3\\lib\\site-packages (from pandas) (2020.1)\n",
      "Requirement already satisfied: python-dateutil>=2.6.1 in c:\\users\\hp\\anaconda3\\lib\\site-packages (from pandas) (2.8.1)\n",
      "Requirement already satisfied: six>=1.5 in c:\\users\\hp\\anaconda3\\lib\\site-packages (from python-dateutil>=2.6.1->pandas) (1.15.0)\n",
      "Note: you may need to restart the kernel to use updated packages.\n"
     ]
    }
   ],
   "source": [
    "pip install pandas"
   ]
  },
  {
   "cell_type": "code",
   "execution_count": 24,
   "metadata": {
    "colab": {
     "base_uri": "https://localhost:8080/",
     "height": 1000
    },
    "colab_type": "code",
    "executionInfo": {
     "elapsed": 15883,
     "status": "ok",
     "timestamp": 1600440747818,
     "user": {
      "displayName": "Prajwal Bhat",
      "photoUrl": "https://lh3.googleusercontent.com/a-/AOh14Git8KFiINGdQ1nW0gJq9MYK40HXzju4hhonJ2XTKQ=s64",
      "userId": "14656634530721889759"
     },
     "user_tz": -330
    },
    "id": "6bSIeEQ2RTJB",
    "outputId": "ec15b5cd-2cc2-42c0-ae13-0ab97ef73e94"
   },
   "outputs": [],
   "source": [
    "# from bing_image_downloader import downloader\n",
    "# downloader.download(\"pizza\",limit =100,output_dir ='images')"
   ]
  },
  {
   "cell_type": "code",
   "execution_count": 25,
   "metadata": {
    "colab": {
     "base_uri": "https://localhost:8080/",
     "height": 655
    },
    "colab_type": "code",
    "executionInfo": {
     "elapsed": 10945,
     "status": "ok",
     "timestamp": 1600440748533,
     "user": {
      "displayName": "Prajwal Bhat",
      "photoUrl": "https://lh3.googleusercontent.com/a-/AOh14Git8KFiINGdQ1nW0gJq9MYK40HXzju4hhonJ2XTKQ=s64",
      "userId": "14656634530721889759"
     },
     "user_tz": -330
    },
    "id": "ofBxrb9MTacH",
    "outputId": "3d48bff9-2ee3-4dd6-803d-0feb45532a1a"
   },
   "outputs": [],
   "source": [
    "# from bing_image_downloader import downloader\n",
    "# downloader.download(\"pasta\",limit =100,output_dir ='images')"
   ]
  },
  {
   "cell_type": "code",
   "execution_count": 26,
   "metadata": {
    "colab": {
     "base_uri": "https://localhost:8080/",
     "height": 240
    },
    "colab_type": "code",
    "executionInfo": {
     "elapsed": 16059,
     "status": "ok",
     "timestamp": 1600440606031,
     "user": {
      "displayName": "Prajwal Bhat",
      "photoUrl": "https://lh3.googleusercontent.com/a-/AOh14Git8KFiINGdQ1nW0gJq9MYK40HXzju4hhonJ2XTKQ=s64",
      "userId": "14656634530721889759"
     },
     "user_tz": -330
    },
    "id": "lal7Z4YwTLyO",
    "outputId": "64797e11-d1b3-4518-8d2d-b64c3355499c"
   },
   "outputs": [
    {
     "data": {
      "image/png": "[encoded data removed]",
      "text/plain": [
       "<Figure size 432x288 with 1 Axes>"
      ]
     },
     "metadata": {
      "needs_background": "light"
     },
     "output_type": "display_data"
    }
   ],
   "source": [
    "path =r'images\\pizza\\Image_1.jpeg'\n",
    "import cv2\n",
    "import matplotlib.pyplot as plt\n",
    "\n",
    "i =cv2.imread(path)\n",
    "i =cv2.cvtColor(i,cv2.COLOR_BGR2RGB)\n",
    "plt.imshow(i)\n",
    "plt.show()"
   ]
  },
  {
   "cell_type": "code",
   "execution_count": 27,
   "metadata": {
    "colab": {
     "base_uri": "https://localhost:8080/",
     "height": 638
    },
    "colab_type": "code",
    "executionInfo": {
     "elapsed": 27916,
     "status": "ok",
     "timestamp": 1600440706935,
     "user": {
      "displayName": "Prajwal Bhat",
      "photoUrl": "https://lh3.googleusercontent.com/a-/AOh14Git8KFiINGdQ1nW0gJq9MYK40HXzju4hhonJ2XTKQ=s64",
      "userId": "14656634530721889759"
     },
     "user_tz": -330
    },
    "id": "l1VHniiT2P8z",
    "outputId": "e4e5235c-4ea7-4e6e-8332-162d150ad301"
   },
   "outputs": [
    {
     "name": "stdout",
     "output_type": "stream",
     "text": [
      "C:\\Users\\hp\\jupter_notebook\\images\\pizza\n",
      "(680, 1024, 3)\n",
      "(611, 1024, 3)\n",
      "(705, 1070, 3)\n",
      "(1000, 750, 3)\n",
      "(850, 1300, 3)\n",
      "(6650, 5000, 3)\n",
      "(600, 600, 3)\n",
      "(933, 1311, 3)\n",
      "(798, 1200, 3)\n",
      "(1000, 667, 3)\n",
      "(630, 1021, 3)\n",
      "(803, 600, 3)\n",
      "(2592, 1936, 3)\n",
      "(1267, 1900, 3)\n",
      "(430, 638, 3)\n",
      "(750, 500, 3)\n",
      "(1600, 1600, 3)\n",
      "(1000, 1000, 3)\n",
      "(800, 800, 3)\n",
      "(900, 600, 3)\n",
      "(667, 1000, 3)\n",
      "(900, 600, 3)\n",
      "(506, 900, 3)\n",
      "(683, 1024, 3)\n",
      "(705, 1070, 3)\n",
      "(680, 1021, 3)\n",
      "(675, 900, 3)\n",
      "(575, 1041, 3)\n",
      "(675, 1200, 3)\n",
      "(959, 1440, 3)\n",
      "(1061, 1200, 3)\n",
      "(427, 640, 3)\n",
      "(681, 1024, 3)\n",
      "(1900, 1900, 3)\n",
      "(800, 600, 3)\n",
      "(2171, 1500, 3)\n",
      "(500, 900, 3)\n",
      "(667, 1000, 3)\n",
      "(770, 1160, 3)\n",
      "(1900, 1900, 3)\n",
      "(800, 1200, 3)\n",
      "(1900, 1900, 3)\n",
      "(417, 625, 3)\n",
      "(2448, 3264, 3)\n",
      "(1738, 2760, 3)\n",
      "(682, 1024, 3)\n",
      "(896, 1200, 3)\n",
      "(2848, 4302, 3)\n",
      "(1900, 1900, 3)\n",
      "(383, 638, 3)\n",
      "(500, 945, 3)\n",
      "(525, 1000, 3)\n",
      "(1632, 816, 3)\n",
      "(1365, 2048, 3)\n",
      "(600, 600, 3)\n",
      "(1600, 1500, 3)\n",
      "(768, 1024, 3)\n",
      "(1403, 1500, 3)\n",
      "(626, 1023, 3)\n",
      "(2171, 1500, 3)\n",
      "(957, 1300, 3)\n",
      "(2448, 3264, 3)\n",
      "(640, 1280, 3)\n",
      "(1300, 1019, 3)\n",
      "(1155, 1600, 3)\n",
      "(951, 1300, 3)\n",
      "(692, 1080, 3)\n",
      "(957, 1300, 3)\n",
      "(600, 900, 3)\n",
      "(352, 354, 3)\n",
      "(2848, 4302, 3)\n",
      "(504, 960, 3)\n",
      "(1080, 1080, 3)\n",
      "(800, 1200, 3)\n",
      "(793, 1024, 3)\n",
      "(1900, 1900, 3)\n",
      "(957, 1300, 3)\n",
      "(360, 640, 3)\n",
      "(720, 720, 3)\n",
      "(1200, 700, 3)\n",
      "(2078, 2899, 3)\n",
      "(680, 1024, 3)\n",
      "(960, 1280, 3)\n",
      "(479, 638, 3)\n",
      "(681, 1024, 3)\n",
      "(620, 826, 3)\n",
      "(366, 500, 3)\n",
      "(1536, 2048, 3)\n",
      "(917, 1600, 3)\n",
      "(800, 1200, 3)\n",
      "(2048, 1819, 3)\n",
      "(597, 599, 3)\n",
      "(3024, 4032, 3)\n",
      "(1536, 1536, 3)\n",
      "(500, 945, 3)\n",
      "(426, 640, 3)\n",
      "(409, 780, 3)\n",
      "(640, 1136, 3)\n",
      "(1215, 1300, 3)\n",
      "(640, 478, 3)\n",
      "(1000, 2000, 3)\n",
      "(396, 704, 3)\n",
      "(600, 800, 3)\n",
      "(512, 511, 3)\n"
     ]
    }
   ],
   "source": [
    "import os\n",
    "\n",
    "path =r'C:\\Users\\hp\\jupter_notebook\\images\\pizza'\n",
    "print(path)\n",
    "for filename in os.listdir(path):\n",
    "    i =cv2.imread(os.path.join(path,filename))\n",
    "    i =cv2.cvtColor(i,cv2.COLOR_BGR2RGB)\n",
    "    print(i.shape)"
   ]
  },
  {
   "cell_type": "code",
   "execution_count": 28,
   "metadata": {
    "colab": {},
    "colab_type": "code",
    "executionInfo": {
     "elapsed": 4753,
     "status": "ok",
     "timestamp": 1600440748536,
     "user": {
      "displayName": "Prajwal Bhat",
      "photoUrl": "https://lh3.googleusercontent.com/a-/AOh14Git8KFiINGdQ1nW0gJq9MYK40HXzju4hhonJ2XTKQ=s64",
      "userId": "14656634530721889759"
     },
     "user_tz": -330
    },
    "id": "NUqml3ER3B1y"
   },
   "outputs": [],
   "source": [
    "from skimage.io import imread\n",
    "from skimage.transform import resize\n",
    "import numpy as np"
   ]
  },
  {
   "cell_type": "code",
   "execution_count": 29,
   "metadata": {
    "colab": {
     "base_uri": "https://localhost:8080/",
     "height": 84
    },
    "colab_type": "code",
    "executionInfo": {
     "elapsed": 53029,
     "status": "ok",
     "timestamp": 1600440805216,
     "user": {
      "displayName": "Prajwal Bhat",
      "photoUrl": "https://lh3.googleusercontent.com/a-/AOh14Git8KFiINGdQ1nW0gJq9MYK40HXzju4hhonJ2XTKQ=s64",
      "userId": "14656634530721889759"
     },
     "user_tz": -330
    },
    "id": "BVtQRAvV3Jtu",
    "outputId": "7baefc7d-220d-4ba1-ce25-87b09e427cef"
   },
   "outputs": [
    {
     "name": "stdout",
     "output_type": "stream",
     "text": [
      "training  pasta\n",
      "training  pasta\n",
      "training  pasta\n",
      "training  pasta\n",
      "training  pasta\n",
      "training  pasta\n",
      "training  pasta\n",
      "training  pasta\n",
      "training  pasta\n",
      "training  pasta\n",
      "training  pasta\n",
      "training  pasta\n",
      "training  pasta\n",
      "training  pasta\n",
      "training  pasta\n",
      "training  pasta\n",
      "training  pasta\n",
      "training  pasta\n",
      "training  pasta\n",
      "training  pasta\n",
      "training  pasta\n",
      "training  pasta\n",
      "training  pasta\n",
      "training  pasta\n",
      "training  pasta\n",
      "training  pasta\n",
      "training  pasta\n",
      "training  pasta\n",
      "training  pasta\n",
      "training  pasta\n",
      "training  pasta\n",
      "training  pasta\n",
      "training  pasta\n",
      "training  pasta\n",
      "training  pasta\n",
      "training  pasta\n",
      "training  pasta\n",
      "training  pasta\n",
      "training  pasta\n",
      "training  pasta\n",
      "training  pasta\n",
      "training  pasta\n",
      "training  pasta\n",
      "training  pasta\n",
      "training  pasta\n",
      "training  pasta\n",
      "training  pasta\n",
      "training  pasta\n",
      "training  pasta\n",
      "training  pasta\n",
      "training  pasta\n",
      "training  pasta\n",
      "training  pasta\n",
      "training  pasta\n",
      "training  pasta\n",
      "training  pasta\n",
      "training  pasta\n",
      "training  pasta\n",
      "training  pasta\n",
      "training  pasta\n",
      "training  pasta\n",
      "training  pasta\n",
      "training  pasta\n",
      "training  pasta\n",
      "training  pasta\n",
      "training  pasta\n",
      "training  pasta\n",
      "training  pasta\n",
      "training  pasta\n",
      "training  pasta\n",
      "training  pasta\n",
      "training  pasta\n",
      "training  pasta\n",
      "training  pasta\n",
      "training  pasta\n",
      "training  pasta\n",
      "training  pasta\n",
      "training  pasta\n",
      "training  pasta\n",
      "training  pasta\n",
      "training  pasta\n",
      "training  pasta\n",
      "training  pasta\n",
      "training  pasta\n",
      "training  pasta\n",
      "training  pasta\n",
      "training  pasta\n",
      "training  pasta\n",
      "training  pasta\n",
      "training  pasta\n",
      "training  pasta\n",
      "training  pasta\n",
      "training  pasta\n",
      "training  pasta\n",
      "training  pasta\n",
      "training  pasta\n",
      "training  pasta\n",
      "training  pasta\n",
      "training  pasta\n",
      "training  pasta\n",
      "training  pasta\n",
      "training  pasta\n",
      "training  pizza\n",
      "training  pizza\n",
      "training  pizza\n",
      "training  pizza\n",
      "training  pizza\n",
      "training  pizza\n",
      "training  pizza\n",
      "training  pizza\n",
      "training  pizza\n",
      "training  pizza\n",
      "training  pizza\n",
      "training  pizza\n",
      "training  pizza\n",
      "training  pizza\n",
      "training  pizza\n",
      "training  pizza\n",
      "training  pizza\n",
      "training  pizza\n",
      "training  pizza\n",
      "training  pizza\n",
      "training  pizza\n",
      "training  pizza\n",
      "training  pizza\n",
      "training  pizza\n",
      "training  pizza\n",
      "training  pizza\n",
      "training  pizza\n",
      "training  pizza\n",
      "training  pizza\n",
      "training  pizza\n",
      "training  pizza\n",
      "training  pizza\n",
      "training  pizza\n",
      "training  pizza\n",
      "training  pizza\n",
      "training  pizza\n",
      "training  pizza\n",
      "training  pizza\n",
      "training  pizza\n",
      "training  pizza\n",
      "training  pizza\n",
      "training  pizza\n",
      "training  pizza\n",
      "training  pizza\n",
      "training  pizza\n",
      "training  pizza\n",
      "training  pizza\n",
      "training  pizza\n",
      "training  pizza\n",
      "training  pizza\n",
      "training  pizza\n",
      "training  pizza\n",
      "training  pizza\n",
      "training  pizza\n",
      "training  pizza\n",
      "training  pizza\n",
      "training  pizza\n",
      "training  pizza\n",
      "training  pizza\n",
      "training  pizza\n",
      "training  pizza\n",
      "training  pizza\n",
      "training  pizza\n",
      "training  pizza\n",
      "training  pizza\n",
      "training  pizza\n",
      "training  pizza\n",
      "training  pizza\n",
      "training  pizza\n",
      "training  pizza\n",
      "training  pizza\n",
      "training  pizza\n",
      "training  pizza\n",
      "training  pizza\n",
      "training  pizza\n",
      "training  pizza\n",
      "training  pizza\n",
      "training  pizza\n",
      "training  pizza\n",
      "training  pizza\n",
      "training  pizza\n",
      "training  pizza\n",
      "training  pizza\n",
      "training  pizza\n",
      "training  pizza\n",
      "training  pizza\n",
      "training  pizza\n",
      "training  pizza\n",
      "training  pizza\n",
      "training  pizza\n",
      "training  pizza\n",
      "training  pizza\n",
      "training  pizza\n",
      "training  pizza\n",
      "training  pizza\n",
      "training  pizza\n",
      "training  pizza\n",
      "training  pizza\n",
      "training  pizza\n",
      "training  pizza\n",
      "training  pizza\n",
      "training  pizza\n",
      "training  pizza\n",
      "training  pizza\n",
      "(206, 7500)\n",
      "['pasta' 'pasta' 'pasta' 'pasta' 'pasta' 'pasta' 'pasta' 'pasta' 'pasta'\n",
      " 'pasta' 'pasta' 'pasta' 'pasta' 'pasta' 'pasta' 'pasta' 'pasta' 'pasta'\n",
      " 'pasta' 'pasta' 'pasta' 'pasta' 'pasta' 'pasta' 'pasta' 'pasta' 'pasta'\n",
      " 'pasta' 'pasta' 'pasta' 'pasta' 'pasta' 'pasta' 'pasta' 'pasta' 'pasta'\n",
      " 'pasta' 'pasta' 'pasta' 'pasta' 'pasta' 'pasta' 'pasta' 'pasta' 'pasta'\n",
      " 'pasta' 'pasta' 'pasta' 'pasta' 'pasta' 'pasta' 'pasta' 'pasta' 'pasta'\n",
      " 'pasta' 'pasta' 'pasta' 'pasta' 'pasta' 'pasta' 'pasta' 'pasta' 'pasta'\n",
      " 'pasta' 'pasta' 'pasta' 'pasta' 'pasta' 'pasta' 'pasta' 'pasta' 'pasta'\n",
      " 'pasta' 'pasta' 'pasta' 'pasta' 'pasta' 'pasta' 'pasta' 'pasta' 'pasta'\n",
      " 'pasta' 'pasta' 'pasta' 'pasta' 'pasta' 'pasta' 'pasta' 'pasta' 'pasta'\n",
      " 'pasta' 'pasta' 'pasta' 'pasta' 'pasta' 'pasta' 'pasta' 'pasta' 'pasta'\n",
      " 'pasta' 'pasta' 'pasta' 'pizza' 'pizza' 'pizza' 'pizza' 'pizza' 'pizza'\n",
      " 'pizza' 'pizza' 'pizza' 'pizza' 'pizza' 'pizza' 'pizza' 'pizza' 'pizza'\n",
      " 'pizza' 'pizza' 'pizza' 'pizza' 'pizza' 'pizza' 'pizza' 'pizza' 'pizza'\n",
      " 'pizza' 'pizza' 'pizza' 'pizza' 'pizza' 'pizza' 'pizza' 'pizza' 'pizza'\n",
      " 'pizza' 'pizza' 'pizza' 'pizza' 'pizza' 'pizza' 'pizza' 'pizza' 'pizza'\n",
      " 'pizza' 'pizza' 'pizza' 'pizza' 'pizza' 'pizza' 'pizza' 'pizza' 'pizza'\n",
      " 'pizza' 'pizza' 'pizza' 'pizza' 'pizza' 'pizza' 'pizza' 'pizza' 'pizza'\n",
      " 'pizza' 'pizza' 'pizza' 'pizza' 'pizza' 'pizza' 'pizza' 'pizza' 'pizza'\n",
      " 'pizza' 'pizza' 'pizza' 'pizza' 'pizza' 'pizza' 'pizza' 'pizza' 'pizza'\n",
      " 'pizza' 'pizza' 'pizza' 'pizza' 'pizza' 'pizza' 'pizza' 'pizza' 'pizza'\n",
      " 'pizza' 'pizza' 'pizza' 'pizza' 'pizza' 'pizza' 'pizza' 'pizza' 'pizza'\n",
      " 'pizza' 'pizza' 'pizza' 'pizza' 'pizza' 'pizza' 'pizza' 'pizza']\n"
     ]
    }
   ],
   "source": [
    "target =[]  #list of target(output)\n",
    "flat_data=[] #image in flatten style\n",
    "images = []\n",
    "\n",
    "path =r'C:\\Users\\hp\\jupter_notebook\\images'\n",
    "\n",
    "for dirpath,dirnames,filenames in os.walk(path):\n",
    "    for filename in filenames:\n",
    "        \n",
    "        head, tail = os.path.split(dirpath)\n",
    "\n",
    "        print(\"training \", tail)\n",
    "        # print(head)\n",
    "\n",
    "        category = dirpath.split('/')[-1]\n",
    "        \n",
    "        #print(category)\n",
    "        \n",
    "        target.append(tail)\n",
    "        img =imread(f'{category}/{filename}')\n",
    "        img_resize = resize(img,(50,50,3))\n",
    "        flat_data.append(img_resize.flatten())\n",
    "        images.append(img_resize)\n",
    "    \n",
    "        \n",
    "flat_data = np.array(flat_data)\n",
    "target = np.array(target)\n",
    "images = np.array(images)\n",
    "\n",
    "print(flat_data.shape)\n",
    "print(target)"
   ]
  },
  {
   "cell_type": "code",
   "execution_count": 30,
   "metadata": {},
   "outputs": [
    {
     "name": "stdout",
     "output_type": "stream",
     "text": [
      "[[[0.00784314 0.01176471 0.00392157]\n",
      "  [0.00784314 0.01176471 0.0075898 ]\n",
      "  [0.01176471 0.01176471 0.00784314]\n",
      "  ...\n",
      "  [0.01176471 0.01176471 0.00784314]\n",
      "  [0.01176471 0.01176471 0.01176471]\n",
      "  [0.01176471 0.01176471 0.01176471]]\n",
      "\n",
      " [[0.00784314 0.00784314 0.00392157]\n",
      "  [0.00784314 0.00784314 0.00784314]\n",
      "  [0.01176471 0.01176471 0.01176471]\n",
      "  ...\n",
      "  [0.00784314 0.00784314 0.00784314]\n",
      "  [0.00784314 0.00784314 0.00784314]\n",
      "  [0.00784314 0.00784314 0.00784314]]\n",
      "\n",
      " [[0.01176471 0.01176471 0.00784314]\n",
      "  [0.01176471 0.01176471 0.01176471]\n",
      "  [0.01176471 0.01176471 0.01176471]\n",
      "  ...\n",
      "  [0.00392157 0.00392157 0.00392157]\n",
      "  [0.00392157 0.00392157 0.00392157]\n",
      "  [0.0056902  0.0056902  0.0056902 ]]\n",
      "\n",
      " ...\n",
      "\n",
      " [[0.04681961 0.04705882 0.03274902]\n",
      "  [0.03529412 0.03596078 0.02745098]\n",
      "  [0.03137255 0.03137255 0.02352941]\n",
      "  ...\n",
      "  [0.09056863 0.07843137 0.0627451 ]\n",
      "  [0.09411765 0.07843137 0.06666667]\n",
      "  [0.09411765 0.08235294 0.0627451 ]]\n",
      "\n",
      " [[0.05098039 0.04705882 0.03715843]\n",
      "  [0.04323059 0.03930902 0.03137255]\n",
      "  [0.03529412 0.03529412 0.02352941]\n",
      "  ...\n",
      "  [0.08627451 0.0779098  0.0627451 ]\n",
      "  [0.09019608 0.07852471 0.0627451 ]\n",
      "  [0.09019608 0.08627451 0.05882353]]\n",
      "\n",
      " [[0.0627451  0.05787529 0.04462745]\n",
      "  [0.06815686 0.06423529 0.04731216]\n",
      "  [0.04705882 0.04313725 0.03137255]\n",
      "  ...\n",
      "  [0.08627451 0.07843137 0.05882353]\n",
      "  [0.09411765 0.08235294 0.0627451 ]\n",
      "  [0.09168627 0.08627451 0.0627451 ]]]\n",
      "#\n",
      "[[0.81960784 0.64705882 0.57647059 ... 0.5254902  0.25719608 0.20784314]\n",
      " [0.98823529 0.83921569 0.56078431 ... 0.22352941 0.24792157 0.27843137]\n",
      " [0.64640523 0.64901961 0.93921569 ... 0.05882353 0.0627451  0.84117647]\n",
      " ...\n",
      " [0.58792157 0.20051608 0.07926118 ... 0.25098039 0.11160784 0.06552314]\n",
      " [0.26666667 0.38431373 0.74705882 ... 0.9        0.98235294 0.98039216]\n",
      " [0.00784314 0.01176471 0.00392157 ... 0.09168627 0.08627451 0.0627451 ]]\n"
     ]
    }
   ],
   "source": [
    "print(img_resize)\n",
    "print(\"#\" )\n",
    "print(flat_data)"
   ]
  },
  {
   "cell_type": "code",
   "execution_count": 31,
   "metadata": {
    "colab": {},
    "colab_type": "code",
    "executionInfo": {
     "elapsed": 1945,
     "status": "ok",
     "timestamp": 1600440947640,
     "user": {
      "displayName": "Prajwal Bhat",
      "photoUrl": "https://lh3.googleusercontent.com/a-/AOh14Git8KFiINGdQ1nW0gJq9MYK40HXzju4hhonJ2XTKQ=s64",
      "userId": "14656634530721889759"
     },
     "user_tz": -330
    },
    "id": "Li_5MY6m3VMg"
   },
   "outputs": [],
   "source": [
    "import pandas as pd\n",
    "\n",
    "df =pd.DataFrame(flat_data)\n",
    "\n",
    "df['Target']=target"
   ]
  },
  {
   "cell_type": "code",
   "execution_count": 32,
   "metadata": {
    "colab": {
     "base_uri": "https://localhost:8080/",
     "height": 244
    },
    "colab_type": "code",
    "executionInfo": {
     "elapsed": 1868,
     "status": "ok",
     "timestamp": 1600421875650,
     "user": {
      "displayName": "Prajwal Bhat",
      "photoUrl": "https://lh3.googleusercontent.com/a-/AOh14Git8KFiINGdQ1nW0gJq9MYK40HXzju4hhonJ2XTKQ=s64",
      "userId": "14656634530721889759"
     },
     "user_tz": -330
    },
    "id": "fy_pvZPL3xN-",
    "outputId": "66a4af05-5a7d-4d94-eeef-4854688088d3"
   },
   "outputs": [
    {
     "data": {
      "text/html": [
       "<div>\n",
       "<style scoped>\n",
       "    .dataframe tbody tr th:only-of-type {\n",
       "        vertical-align: middle;\n",
       "    }\n",
       "\n",
       "    .dataframe tbody tr th {\n",
       "        vertical-align: top;\n",
       "    }\n",
       "\n",
       "    .dataframe thead th {\n",
       "        text-align: right;\n",
       "    }\n",
       "</style>\n",
       "<table border=\"1\" class=\"dataframe\">\n",
       "  <thead>\n",
       "    <tr style=\"text-align: right;\">\n",
       "      <th></th>\n",
       "      <th>0</th>\n",
       "      <th>1</th>\n",
       "      <th>2</th>\n",
       "      <th>3</th>\n",
       "      <th>4</th>\n",
       "      <th>5</th>\n",
       "      <th>6</th>\n",
       "      <th>7</th>\n",
       "      <th>8</th>\n",
       "      <th>9</th>\n",
       "      <th>...</th>\n",
       "      <th>7491</th>\n",
       "      <th>7492</th>\n",
       "      <th>7493</th>\n",
       "      <th>7494</th>\n",
       "      <th>7495</th>\n",
       "      <th>7496</th>\n",
       "      <th>7497</th>\n",
       "      <th>7498</th>\n",
       "      <th>7499</th>\n",
       "      <th>Target</th>\n",
       "    </tr>\n",
       "  </thead>\n",
       "  <tbody>\n",
       "    <tr>\n",
       "      <th>0</th>\n",
       "      <td>0.819608</td>\n",
       "      <td>0.647059</td>\n",
       "      <td>0.576471</td>\n",
       "      <td>0.819608</td>\n",
       "      <td>0.647059</td>\n",
       "      <td>0.572549</td>\n",
       "      <td>0.894118</td>\n",
       "      <td>0.741176</td>\n",
       "      <td>0.633333</td>\n",
       "      <td>0.864373</td>\n",
       "      <td>...</td>\n",
       "      <td>0.497706</td>\n",
       "      <td>0.235294</td>\n",
       "      <td>0.188235</td>\n",
       "      <td>0.537255</td>\n",
       "      <td>0.250980</td>\n",
       "      <td>0.200000</td>\n",
       "      <td>0.525490</td>\n",
       "      <td>0.257196</td>\n",
       "      <td>0.207843</td>\n",
       "      <td>pasta</td>\n",
       "    </tr>\n",
       "    <tr>\n",
       "      <th>1</th>\n",
       "      <td>0.988235</td>\n",
       "      <td>0.839216</td>\n",
       "      <td>0.560784</td>\n",
       "      <td>0.972549</td>\n",
       "      <td>0.827451</td>\n",
       "      <td>0.552941</td>\n",
       "      <td>0.843333</td>\n",
       "      <td>0.709569</td>\n",
       "      <td>0.475373</td>\n",
       "      <td>0.378627</td>\n",
       "      <td>...</td>\n",
       "      <td>0.220039</td>\n",
       "      <td>0.231373</td>\n",
       "      <td>0.258824</td>\n",
       "      <td>0.223961</td>\n",
       "      <td>0.243569</td>\n",
       "      <td>0.274510</td>\n",
       "      <td>0.223529</td>\n",
       "      <td>0.247922</td>\n",
       "      <td>0.278431</td>\n",
       "      <td>pasta</td>\n",
       "    </tr>\n",
       "    <tr>\n",
       "      <th>2</th>\n",
       "      <td>0.646405</td>\n",
       "      <td>0.649020</td>\n",
       "      <td>0.939216</td>\n",
       "      <td>0.641830</td>\n",
       "      <td>0.643137</td>\n",
       "      <td>0.938562</td>\n",
       "      <td>0.641444</td>\n",
       "      <td>0.641000</td>\n",
       "      <td>0.937908</td>\n",
       "      <td>0.606514</td>\n",
       "      <td>...</td>\n",
       "      <td>0.050980</td>\n",
       "      <td>0.052941</td>\n",
       "      <td>0.839216</td>\n",
       "      <td>0.062745</td>\n",
       "      <td>0.064706</td>\n",
       "      <td>0.841176</td>\n",
       "      <td>0.058824</td>\n",
       "      <td>0.062745</td>\n",
       "      <td>0.841176</td>\n",
       "      <td>pasta</td>\n",
       "    </tr>\n",
       "    <tr>\n",
       "      <th>3</th>\n",
       "      <td>0.172489</td>\n",
       "      <td>0.301961</td>\n",
       "      <td>0.563786</td>\n",
       "      <td>0.165819</td>\n",
       "      <td>0.283647</td>\n",
       "      <td>0.539843</td>\n",
       "      <td>0.123725</td>\n",
       "      <td>0.208235</td>\n",
       "      <td>0.400784</td>\n",
       "      <td>0.085373</td>\n",
       "      <td>...</td>\n",
       "      <td>0.036247</td>\n",
       "      <td>0.026337</td>\n",
       "      <td>0.055608</td>\n",
       "      <td>0.019608</td>\n",
       "      <td>0.013059</td>\n",
       "      <td>0.050431</td>\n",
       "      <td>0.019608</td>\n",
       "      <td>0.023529</td>\n",
       "      <td>0.058275</td>\n",
       "      <td>pasta</td>\n",
       "    </tr>\n",
       "    <tr>\n",
       "      <th>4</th>\n",
       "      <td>0.980392</td>\n",
       "      <td>0.980392</td>\n",
       "      <td>0.993464</td>\n",
       "      <td>0.980392</td>\n",
       "      <td>0.980392</td>\n",
       "      <td>0.993464</td>\n",
       "      <td>0.980392</td>\n",
       "      <td>0.980392</td>\n",
       "      <td>0.993464</td>\n",
       "      <td>0.980392</td>\n",
       "      <td>...</td>\n",
       "      <td>0.921516</td>\n",
       "      <td>0.921255</td>\n",
       "      <td>0.983608</td>\n",
       "      <td>0.917647</td>\n",
       "      <td>0.917647</td>\n",
       "      <td>0.983007</td>\n",
       "      <td>0.913725</td>\n",
       "      <td>0.913725</td>\n",
       "      <td>0.982353</td>\n",
       "      <td>pasta</td>\n",
       "    </tr>\n",
       "  </tbody>\n",
       "</table>\n",
       "<p>5 rows × 7501 columns</p>\n",
       "</div>"
      ],
      "text/plain": [
       "          0         1         2         3         4         5         6  \\\n",
       "0  0.819608  0.647059  0.576471  0.819608  0.647059  0.572549  0.894118   \n",
       "1  0.988235  0.839216  0.560784  0.972549  0.827451  0.552941  0.843333   \n",
       "2  0.646405  0.649020  0.939216  0.641830  0.643137  0.938562  0.641444   \n",
       "3  0.172489  0.301961  0.563786  0.165819  0.283647  0.539843  0.123725   \n",
       "4  0.980392  0.980392  0.993464  0.980392  0.980392  0.993464  0.980392   \n",
       "\n",
       "          7         8         9  ...      7491      7492      7493      7494  \\\n",
       "0  0.741176  0.633333  0.864373  ...  0.497706  0.235294  0.188235  0.537255   \n",
       "1  0.709569  0.475373  0.378627  ...  0.220039  0.231373  0.258824  0.223961   \n",
       "2  0.641000  0.937908  0.606514  ...  0.050980  0.052941  0.839216  0.062745   \n",
       "3  0.208235  0.400784  0.085373  ...  0.036247  0.026337  0.055608  0.019608   \n",
       "4  0.980392  0.993464  0.980392  ...  0.921516  0.921255  0.983608  0.917647   \n",
       "\n",
       "       7495      7496      7497      7498      7499  Target  \n",
       "0  0.250980  0.200000  0.525490  0.257196  0.207843   pasta  \n",
       "1  0.243569  0.274510  0.223529  0.247922  0.278431   pasta  \n",
       "2  0.064706  0.841176  0.058824  0.062745  0.841176   pasta  \n",
       "3  0.013059  0.050431  0.019608  0.023529  0.058275   pasta  \n",
       "4  0.917647  0.983007  0.913725  0.913725  0.982353   pasta  \n",
       "\n",
       "[5 rows x 7501 columns]"
      ]
     },
     "execution_count": 32,
     "metadata": {},
     "output_type": "execute_result"
    }
   ],
   "source": [
    "df.head()"
   ]
  },
  {
   "cell_type": "code",
   "execution_count": 33,
   "metadata": {
    "colab": {
     "base_uri": "https://localhost:8080/",
     "height": 134
    },
    "colab_type": "code",
    "executionInfo": {
     "elapsed": 1684,
     "status": "ok",
     "timestamp": 1600440979496,
     "user": {
      "displayName": "Prajwal Bhat",
      "photoUrl": "https://lh3.googleusercontent.com/a-/AOh14Git8KFiINGdQ1nW0gJq9MYK40HXzju4hhonJ2XTKQ=s64",
      "userId": "14656634530721889759"
     },
     "user_tz": -330
    },
    "id": "3FOYQpHXLoU1",
    "outputId": "0cc9c11f-9bf9-40e8-e4ee-fa297c1949a9"
   },
   "outputs": [
    {
     "name": "stdout",
     "output_type": "stream",
     "text": [
      "(206, 7500)\n"
     ]
    }
   ],
   "source": [
    "x=flat_data\n",
    "print(x.shape)\n",
    "y=df.Target"
   ]
  },
  {
   "cell_type": "code",
   "execution_count": 51,
   "metadata": {
    "colab": {
     "base_uri": "https://localhost:8080/",
     "height": 34
    },
    "colab_type": "code",
    "executionInfo": {
     "elapsed": 1987,
     "status": "ok",
     "timestamp": 1600441047023,
     "user": {
      "displayName": "Prajwal Bhat",
      "photoUrl": "https://lh3.googleusercontent.com/a-/AOh14Git8KFiINGdQ1nW0gJq9MYK40HXzju4hhonJ2XTKQ=s64",
      "userId": "14656634530721889759"
     },
     "user_tz": -330
    },
    "id": "_gS9OyX030pv",
    "outputId": "73f995d3-8af7-4965-de0c-33994bb8316d"
   },
   "outputs": [
    {
     "name": "stdout",
     "output_type": "stream",
     "text": [
      "(154, 7500)\n",
      "(52, 7500)\n",
      "(154,)\n",
      "(52,)\n"
     ]
    }
   ],
   "source": [
    "from sklearn.model_selection import train_test_split\n",
    "x_train,x_test,y_train,y_test= train_test_split(x,y)\n",
    "\n",
    "print(x_train.shape)\n",
    "print(x_test.shape)\n",
    "print(y_train.shape)\n",
    "print(y_test.shape)"
   ]
  },
  {
   "cell_type": "code",
   "execution_count": 50,
   "metadata": {},
   "outputs": [
    {
     "name": "stderr",
     "output_type": "stream",
     "text": [
      "C:\\Users\\hp\\anaconda3\\lib\\site-packages\\sklearn\\utils\\validation.py:70: FutureWarning: Pass mode=distance as keyword args. From version 1.0 (renaming of 0.25) passing these as positional arguments will result in an error\n",
      "  warnings.warn(f\"Pass {args_msg} as keyword args. From version \"\n"
     ]
    },
    {
     "data": {
      "image/png": "[encoded data removed]",
      "text/plain": [
       "<Figure size 432x288 with 1 Axes>"
      ]
     },
     "metadata": {
      "needs_background": "light"
     },
     "output_type": "display_data"
    }
   ],
   "source": [
    "from sklearn.neighbors import kneighbors_graph\n",
    "\n",
    "A = kneighbors_graph(x_test, 8, 'distance')\n",
    "plt.spy(A)\n",
    "plt.title('Knn with K=8')\n",
    "plt.show()"
   ]
  },
  {
   "cell_type": "code",
   "execution_count": 65,
   "metadata": {
    "colab": {
     "base_uri": "https://localhost:8080/",
     "height": 84
    },
    "colab_type": "code",
    "executionInfo": {
     "elapsed": 1975,
     "status": "ok",
     "timestamp": 1600441097621,
     "user": {
      "displayName": "Prajwal Bhat",
      "photoUrl": "https://lh3.googleusercontent.com/a-/AOh14Git8KFiINGdQ1nW0gJq9MYK40HXzju4hhonJ2XTKQ=s64",
      "userId": "14656634530721889759"
     },
     "user_tz": -330
    },
    "id": "4lkNfvU_Mvvz",
    "outputId": "0dd0014d-9964-48ba-e341-f9b4bf504539"
   },
   "outputs": [
    {
     "name": "stdout",
     "output_type": "stream",
     "text": [
      "0.6346153846153846 1\n",
      "0.6153846153846154 2\n",
      "0.7307692307692307 3\n",
      "0.6730769230769231 4\n",
      "0.7115384615384616 5\n",
      "0.6346153846153846 6\n",
      "0.6153846153846154 7\n",
      "0.5961538461538461 8\n",
      "0.5961538461538461 9\n"
     ]
    }
   ],
   "source": [
    "from sklearn.neighbors import KNeighborsClassifier\n",
    "from sklearn.metrics import confusion_matrix,accuracy_score\n",
    "\n",
    "for i in range(1,10):\n",
    "    model = KNeighborsClassifier(n_neighbors = i)\n",
    "    model.fit(x_train, y_train)\n",
    "    y_pred=model.predict(x_test)\n",
    "    print(accuracy_score(y_pred,y_test), i)"
   ]
  },
  {
   "cell_type": "code",
   "execution_count": 66,
   "metadata": {},
   "outputs": [
    {
     "data": {
      "text/plain": [
       "0.5961538461538461"
      ]
     },
     "execution_count": 66,
     "metadata": {},
     "output_type": "execute_result"
    }
   ],
   "source": [
    "model = KNeighborsClassifier(n_neighbors = 8)\n",
    "model.fit(x_train,y_train)\n",
    "accuracy_score(y_pred,y_test)"
   ]
  },
  {
   "cell_type": "code",
   "execution_count": 67,
   "metadata": {
    "colab": {
     "base_uri": "https://localhost:8080/",
     "height": 34
    },
    "colab_type": "code",
    "executionInfo": {
     "elapsed": 1518,
     "status": "ok",
     "timestamp": 1600441102060,
     "user": {
      "displayName": "Prajwal Bhat",
      "photoUrl": "https://lh3.googleusercontent.com/a-/AOh14Git8KFiINGdQ1nW0gJq9MYK40HXzju4hhonJ2XTKQ=s64",
      "userId": "14656634530721889759"
     },
     "user_tz": -330
    },
    "id": "ngPCAKPtM1_W",
    "outputId": "65aaf3dc-e23e-48b7-d6c4-bb95f01b72bf"
   },
   "outputs": [
    {
     "data": {
      "text/plain": [
       "array(['pasta', 'pasta', 'pizza', 'pizza', 'pasta', 'pizza', 'pizza',\n",
       "       'pizza', 'pizza', 'pasta', 'pasta', 'pizza', 'pizza', 'pasta',\n",
       "       'pasta', 'pizza', 'pizza', 'pasta', 'pizza', 'pizza', 'pasta',\n",
       "       'pasta', 'pizza', 'pizza', 'pizza', 'pizza', 'pasta', 'pasta',\n",
       "       'pasta', 'pasta', 'pasta', 'pizza', 'pasta', 'pizza', 'pizza',\n",
       "       'pasta', 'pizza', 'pizza', 'pizza', 'pasta', 'pizza', 'pizza',\n",
       "       'pizza', 'pizza', 'pizza', 'pasta', 'pizza', 'pizza', 'pasta',\n",
       "       'pizza', 'pizza', 'pasta'], dtype=object)"
      ]
     },
     "execution_count": 67,
     "metadata": {},
     "output_type": "execute_result"
    }
   ],
   "source": [
    "y_pred=model.predict(x_test)\n",
    "y_pred"
   ]
  },
  {
   "cell_type": "code",
   "execution_count": 42,
   "metadata": {},
   "outputs": [
    {
     "data": {
      "text/plain": [
       "52"
      ]
     },
     "execution_count": 42,
     "metadata": {},
     "output_type": "execute_result"
    }
   ],
   "source": [
    "len(y_test)"
   ]
  },
  {
   "cell_type": "code",
   "execution_count": 43,
   "metadata": {},
   "outputs": [],
   "source": [
    "# X = np.array(list(zip(x, x2))).reshape(len(x1), 2)\n",
    "# distortions = []\n",
    "# inertias = []\n",
    "# mapping1 = {}\n",
    "# mapping2 = {}\n",
    "# K = range(1, 10)\n",
    "\n",
    "# for k in K:\n",
    "# \t# Building and fitting the model\n",
    "# \tkmeanModel = KMeans(n_clusters=k).fit(X)\n",
    "# \tkmeanModel.fit(X)\n",
    "\n",
    "# \tdistortions.append(sum(np.min(cdist(X, kmeanModel.cluster_centers_,'euclidean'), axis=1)) / X.shape[0])\n",
    "# \tinertias.append(kmeanModel.inertia_)\n",
    "\n",
    "# \tmapping1[k] = sum(np.min(cdist(X, kmeanModel.cluster_centers_,'euclidean'), axis=1)) / X.shape[0]\n",
    "# \tmapping2[k] = kmeanModel.inertia_\n"
   ]
  },
  {
   "cell_type": "code",
   "execution_count": 44,
   "metadata": {
    "colab": {
     "base_uri": "https://localhost:8080/",
     "height": 50
    },
    "colab_type": "code",
    "executionInfo": {
     "elapsed": 1434,
     "status": "ok",
     "timestamp": 1600441220487,
     "user": {
      "displayName": "Prajwal Bhat",
      "photoUrl": "https://lh3.googleusercontent.com/a-/AOh14Git8KFiINGdQ1nW0gJq9MYK40HXzju4hhonJ2XTKQ=s64",
      "userId": "14656634530721889759"
     },
     "user_tz": -330
    },
    "id": "XDtnoRLKur5F",
    "outputId": "f18465b4-b017-45f4-eeb9-e2c4f7180753"
   },
   "outputs": [
    {
     "data": {
      "text/plain": [
       "array([[14, 10],\n",
       "       [10, 18]], dtype=int64)"
      ]
     },
     "execution_count": 44,
     "metadata": {},
     "output_type": "execute_result"
    }
   ],
   "source": [
    "# confusion_matrix(y_pred,y_test)\n",
    "import matplotlib.pyplot as plt  \n",
    "from sklearn.datasets import make_classification\n",
    "from sklearn.metrics import confusion_matrix\n",
    "from sklearn.model_selection import train_test_split\n",
    "\n",
    "# x, y = make_classification(random_state=0)\n",
    "x_train, x_test, y_train, y_test = train_test_split(x, y, random_state=0)\n",
    "confusion_matrix(y_pred,y_test)\n",
    "#plt.show()  "
   ]
  },
  {
   "cell_type": "code",
   "execution_count": 48,
   "metadata": {
    "colab": {
     "base_uri": "https://localhost:8080/",
     "height": 339
    },
    "colab_type": "code",
    "executionInfo": {
     "elapsed": 320757,
     "status": "ok",
     "timestamp": 1600441893998,
     "user": {
      "displayName": "Prajwal Bhat",
      "photoUrl": "https://lh3.googleusercontent.com/a-/AOh14Git8KFiINGdQ1nW0gJq9MYK40HXzju4hhonJ2XTKQ=s64",
      "userId": "14656634530721889759"
     },
     "user_tz": -330
    },
    "id": "ZpRrV-6Zuvd5",
    "outputId": "f6bbb9b4-b7d0-487f-ea9d-ed8603425326"
   },
   "outputs": [
    {
     "name": "stdout",
     "output_type": "stream",
     "text": [
      "enter png or jpg pic link of pizza or pasta\n",
      "https://www.simplyrecipes.com/thmb/52FAbqwMY-ZDhx2ogNm8vpFx07M=/450x0/filters:no_upscale():max_bytes(150000):strip_icc()/__opt__aboutcom__coeus__resources__content_migration__simply_recipes__uploads__2019__09__easy-pepperoni-pizza-lead-4-82c60893fcad4ade906a8a9f59b8da9d.jpg\n",
      "['pizza']\n",
      "try another pic press 1\n",
      " else enter 0\n",
      "0\n"
     ]
    }
   ],
   "source": [
    "a=1\n",
    "while a == 1:\n",
    "  print(\"enter png or jpg pic link of pizza or pasta\")\n",
    "  path=input()\n",
    "  img =imread(path)\n",
    "\n",
    "  test_flat_data=[]\n",
    "  imgs=[]\n",
    "  img_resize = resize(img,(50,50,3))\n",
    "  test_flat_data.append(img_resize.flatten())\n",
    "  imgs.append(img_resize)\n",
    "\n",
    "  output=model.predict(test_flat_data)\n",
    "  print(output)\n",
    "  print(\"try another pic press 1\\n else enter 0\")\n",
    "  a=int(input())"
   ]
  }
 ],
 "metadata": {
  "colab": {
   "authorship_tag": "ABX9TyOF4nxMCXCl3weOcoIVF6Ap",
   "collapsed_sections": [],
   "mount_file_id": "1OX1RaDX6aVI5WLtIhHRHAFH8hSkBpgrY",
   "name": "miniproject.ipynb",
   "provenance": []
  },
  "kernelspec": {
   "display_name": "Python 3",
   "language": "python",
   "name": "python3"
  },
  "language_info": {
   "codemirror_mode": {
    "name": "ipython",
    "version": 3
   },
   "file_extension": ".py",
   "mimetype": "text/x-python",
   "name": "python",
   "nbconvert_exporter": "python",
   "pygments_lexer": "ipython3",
   "version": "3.8.3"
  }
 },
 "nbformat": 4,
 "nbformat_minor": 1
}
